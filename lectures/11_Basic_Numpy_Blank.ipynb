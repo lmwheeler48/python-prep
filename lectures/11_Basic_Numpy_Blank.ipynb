{
 "cells": [
  {
   "cell_type": "markdown",
   "id": "1cc0501a",
   "metadata": {},
   "source": [
    "# Basic `numpy`\n",
    "\n",
    "In this notebook we will learn about the python package `numpy`.\n",
    "\n",
    "By the end of this notebook you will know about:\n",
    "- Checking the version of a python package,\n",
    "- `numpy` `ndarray`s,\n",
    "- `ndarray` functions,\n",
    "- `numpy` functions,\n",
    "- Pseudorandom numbers in `numpy` and\n",
    "- Linear algebra in `numpy`."
   ]
  },
  {
   "cell_type": "markdown",
   "id": "443bdb03",
   "metadata": {},
   "source": [
    "## `numpy`\n",
    "\n",
    "`numpy` is a python package that is a real workhorse of machine learning and data science.\n",
    "\n",
    "If you are new to python, this will be the first true package you will import. That being said we should check that you have the package installed, try to run the following code chunk. (Note if you installed the Anaconda platform, <a href=\"https://www.anaconda.com/\">https://www.anaconda.com/</a>, `numpy` should be installed already)."
   ]
  },
  {
   "cell_type": "code",
   "execution_count": 1,
   "id": "bbdf9bf8",
   "metadata": {},
   "outputs": [],
   "source": [
    "## it is standard to import numpy as np\n",
    "import numpy as np"
   ]
  },
  {
   "cell_type": "code",
   "execution_count": 2,
   "id": "39e8188a",
   "metadata": {},
   "outputs": [
    {
     "name": "stdout",
     "output_type": "stream",
     "text": [
      "2.2.1\n"
     ]
    }
   ],
   "source": [
    "## let's check what version of numpy you have\n",
    "## when I wrote this I had version 1.24.2\n",
    "## yours may be different\n",
    "print(np.__version__)"
   ]
  },
  {
   "cell_type": "markdown",
   "id": "f7bd8780",
   "metadata": {},
   "source": [
    "If you had a version of `numpy` installed, both of those code chunks should have run without error. If not, you will need to install it onto your machine because we will be using it heavily in the boot camp. For installation instructions check out the `numpy` documentation here, <a href=\"https://numpy.org/install/\">https://numpy.org/install/</a>. If you are unsure how to install a python package in general check our python package installation guide, <a href=\"https://www.erdosinstitute.org/data-science\">https://www.erdosinstitute.org/data-science</a>.\n",
    "\n",
    "\n",
    "##### Be sure you can run both of the above code chunks before continuing with this notebook, again it should be fine if your package version is slightly different than mine."
   ]
  },
  {
   "cell_type": "markdown",
   "id": "10208b8d",
   "metadata": {},
   "source": [
    "### `numpy`'s `ndarray`\n",
    "\n",
    "While base python likes to store data in objects like `list`s and `tuple`s, in `numpy` data is stored in an `ndarray` it is similar to a list, but has a number of features that make it more useful for numeric data manipulation in a number of data science applications.\n",
    "\n",
    "<a href=\"https://numpy.org/doc/stable/reference/generated/numpy.ndarray.html\">https://numpy.org/doc/stable/reference/generated/numpy.ndarray.html</a>."
   ]
  },
  {
   "cell_type": "code",
   "execution_count": 7,
   "id": "9471319d",
   "metadata": {},
   "outputs": [
    {
     "name": "stdout",
     "output_type": "stream",
     "text": [
      "[ 1  2  3  4  5  6  7  8  9 10]\n",
      "\n",
      "<class 'numpy.ndarray'>\n"
     ]
    }
   ],
   "source": [
    "## You can make an array with np.array\n",
    "## You just put np.array() around a python list or tuple\n",
    "# array1 = [1,2,3,4,5,6,7,8,9,10]\n",
    "array1 = np.array([1,2,3,4,5,6,7,8,9,10])\n",
    "print(array1)\n",
    "print()\n",
    "print(type(array1))"
   ]
  },
  {
   "cell_type": "markdown",
   "id": "52c085ff",
   "metadata": {},
   "source": [
    "`numpy` `ndarray`s can have any finite number of dimensions. This can be constructed by wrapping `np.array` around a `list` of `list`s."
   ]
  },
  {
   "cell_type": "code",
   "execution_count": 8,
   "id": "7fa372d4",
   "metadata": {},
   "outputs": [
    {
     "name": "stdout",
     "output_type": "stream",
     "text": [
      "[[1 2 3]\n",
      " [4 5 6]\n",
      " [7 8 9]]\n",
      "\n",
      "array2 is a (3, 3) ndarray\n"
     ]
    }
   ],
   "source": [
    "## this produces a 2-dimensional array\n",
    "## it is a 2x2 array\n",
    "array2 = np.array([[1,2,3],[4,5,6],[7,8,9]])\n",
    "print(array2)\n",
    "print()\n",
    "\n",
    "## we can check the array's dimensions with np.shape()\n",
    "## np.shape() returns a tuple with the size of each dimension\n",
    "## array2 should be a 2 by 2 array\n",
    "print(\"array2 is a\", np.shape(array2), \"ndarray\")"
   ]
  },
  {
   "cell_type": "code",
   "execution_count": 9,
   "id": "11769736",
   "metadata": {},
   "outputs": [
    {
     "data": {
      "text/plain": [
       "(3, 3)"
      ]
     },
     "execution_count": 9,
     "metadata": {},
     "output_type": "execute_result"
    }
   ],
   "source": [
    "array2.shape"
   ]
  },
  {
   "cell_type": "markdown",
   "id": "95773636",
   "metadata": {},
   "source": [
    "<i>Note: the dimensionality of an `ndarray` will be quite important in our boot camp because certain algorithms will not run if the `ndarray` is the wrong shape.</i>"
   ]
  },
  {
   "cell_type": "code",
   "execution_count": 15,
   "id": "d4716389",
   "metadata": {},
   "outputs": [
    {
     "name": "stdout",
     "output_type": "stream",
     "text": [
      "(2, 2, 2)\n",
      "[[[1 1]\n",
      "  [1 1]]\n",
      "\n",
      " [[1 1]\n",
      "  [1 1]]]\n"
     ]
    }
   ],
   "source": [
    "## You code\n",
    "## Try making a 2x2x2 array\n",
    "array3 = np.array([[[1,1],[1,1]],[[1,1],[1,1]]])\n",
    "print(array3.shape)\n",
    "print(array3)"
   ]
  },
  {
   "cell_type": "code",
   "execution_count": 12,
   "id": "bb1e8f35",
   "metadata": {},
   "outputs": [
    {
     "name": "stdout",
     "output_type": "stream",
     "text": [
      "(2, 2, 2, 2)\n",
      "[[[[1 1]\n",
      "   [2 2]]\n",
      "\n",
      "  [[3 3]\n",
      "   [4 4]]]\n",
      "\n",
      "\n",
      " [[[5 5]\n",
      "   [6 6]]\n",
      "\n",
      "  [[7 7]\n",
      "   [8 8]]]]\n"
     ]
    }
   ],
   "source": [
    "## You code \n",
    "## Try making a 2x2x2x2 array\n",
    "array4 = np.array([[[[1,1],[2,2]],[[3,3],[4,4]]],[[[5,5],[6,6]],[[7,7],[8,8]]]])\n",
    "print(array4.shape)\n",
    "print(array4)"
   ]
  },
  {
   "cell_type": "markdown",
   "id": "142af141",
   "metadata": {},
   "source": [
    "### `ndarray` Functions\n",
    "\n",
    "#### Vectorized Operations\n",
    "\n",
    "`ndarray`s are nice because, for the most part, they work the way you'd expect a vector or matrix to work. Let's compare and contrast with python's `list`s."
   ]
  },
  {
   "cell_type": "code",
   "execution_count": 16,
   "id": "59fa0666",
   "metadata": {},
   "outputs": [
    {
     "name": "stdout",
     "output_type": "stream",
     "text": [
      "[1, 2, 3, 4, 5, 1, 2, 3, 4, 5]\n"
     ]
    }
   ],
   "source": [
    "## You code\n",
    "## see what happens when you code up 2*list1\n",
    "list1 = [1,2,3,4,5]\n",
    "print(2*list1)"
   ]
  },
  {
   "cell_type": "code",
   "execution_count": 18,
   "id": "a2563d7b",
   "metadata": {},
   "outputs": [
    {
     "name": "stdout",
     "output_type": "stream",
     "text": [
      "[ 2  4  6  8 10 12 14 16 18 20]\n"
     ]
    }
   ],
   "source": [
    "## You code\n",
    "## Now compare it to 2*array1\n",
    "print(2*array1)"
   ]
  },
  {
   "cell_type": "code",
   "execution_count": 19,
   "id": "24dfa6c1",
   "metadata": {},
   "outputs": [
    {
     "data": {
      "text/plain": [
       "[1, 2, 3, 4, 5, 2, 4, 6, 8]"
      ]
     },
     "execution_count": 19,
     "metadata": {},
     "output_type": "execute_result"
    }
   ],
   "source": [
    "## what happens here?\n",
    "list2 = [2,4,6,8]\n",
    "list1 + list2"
   ]
  },
  {
   "cell_type": "code",
   "execution_count": 21,
   "id": "80b661de",
   "metadata": {},
   "outputs": [
    {
     "data": {
      "text/plain": [
       "array([ 2,  4,  6,  8, 10, 12, 14, 16, 18, 20])"
      ]
     },
     "execution_count": 21,
     "metadata": {},
     "output_type": "execute_result"
    }
   ],
   "source": [
    "## You code\n",
    "## code up the comparable ndarray expression\n",
    "## and see what happens\n",
    "array1+array1"
   ]
  },
  {
   "cell_type": "code",
   "execution_count": 25,
   "id": "ebc8e7eb",
   "metadata": {},
   "outputs": [
    {
     "ename": "TypeError",
     "evalue": "can only concatenate list (not \"int\") to list",
     "output_type": "error",
     "traceback": [
      "\u001b[1;31m---------------------------------------------------------------------------\u001b[0m",
      "\u001b[1;31mTypeError\u001b[0m                                 Traceback (most recent call last)",
      "Cell \u001b[1;32mIn[25], line 2\u001b[0m\n\u001b[0;32m      1\u001b[0m \u001b[38;5;66;03m## Finally what happens here?\u001b[39;00m\n\u001b[1;32m----> 2\u001b[0m list1 \u001b[38;5;241m+\u001b[39m \u001b[38;5;241m2\u001b[39m\n",
      "\u001b[1;31mTypeError\u001b[0m: can only concatenate list (not \"int\") to list"
     ]
    }
   ],
   "source": [
    "## Finally what happens here?\n",
    "list1 + 2"
   ]
  },
  {
   "cell_type": "code",
   "execution_count": 23,
   "id": "4a92941a",
   "metadata": {},
   "outputs": [
    {
     "data": {
      "text/plain": [
       "array([[ 2,  3,  4],\n",
       "       [ 5,  6,  7],\n",
       "       [ 8,  9, 10]])"
      ]
     },
     "execution_count": 23,
     "metadata": {},
     "output_type": "execute_result"
    }
   ],
   "source": [
    "## Try the comparable ndarray expression\n",
    "array2+1"
   ]
  },
  {
   "cell_type": "code",
   "execution_count": 30,
   "id": "8fde1bee",
   "metadata": {},
   "outputs": [
    {
     "name": "stdout",
     "output_type": "stream",
     "text": [
      "[[-1  4]\n",
      " [ 1 -4]]\n",
      "[[ 1 -2]\n",
      " [ 1 -2]]\n"
     ]
    }
   ],
   "source": [
    "A = np.array([[1,2], [1,2]])\n",
    "\n",
    "B = np.array([[-1,2], [1,-2]])\n",
    "\n",
    "\n",
    "print(A*B)\n",
    "\n",
    "print(np.matmul(A,B))"
   ]
  },
  {
   "cell_type": "markdown",
   "id": "ff429ad8",
   "metadata": {},
   "source": [
    "### Preset `numpy` Arrays\n",
    "\n",
    "There are a number of standard array types that you will want to use, that can be quickly generated."
   ]
  },
  {
   "cell_type": "code",
   "execution_count": 31,
   "id": "64174fc6",
   "metadata": {},
   "outputs": [
    {
     "name": "stdout",
     "output_type": "stream",
     "text": [
      "[1.]\n",
      "\n",
      "[[1. 1. 1. 1. 1. 1. 1. 1. 1. 1.]\n",
      " [1. 1. 1. 1. 1. 1. 1. 1. 1. 1.]\n",
      " [1. 1. 1. 1. 1. 1. 1. 1. 1. 1.]\n",
      " [1. 1. 1. 1. 1. 1. 1. 1. 1. 1.]]\n",
      "\n",
      "[[[1. 1.]\n",
      "  [1. 1.]]\n",
      "\n",
      " [[1. 1.]\n",
      "  [1. 1.]]]\n",
      "\n",
      "[[[1. 1.]\n",
      "  [1. 1.]\n",
      "  [1. 1.]]\n",
      "\n",
      " [[1. 1.]\n",
      "  [1. 1.]\n",
      "  [1. 1.]]]\n"
     ]
    }
   ],
   "source": [
    "## np.ones(shape) makes an array of all ones of the desired shape\n",
    "print(np.ones(1))\n",
    "\n",
    "print()\n",
    "\n",
    "print(np.ones((4,10)))\n",
    "\n",
    "print()\n",
    "\n",
    "print(np.ones((2,2,2)))\n",
    "\n",
    "print()\n",
    "print(np.ones((2,3,2)))"
   ]
  },
  {
   "cell_type": "code",
   "execution_count": 32,
   "id": "cacbdfd8",
   "metadata": {},
   "outputs": [
    {
     "name": "stdout",
     "output_type": "stream",
     "text": [
      "[0. 0. 0. 0.]\n",
      "\n",
      "[[0. 0. 0. 0. 0.]\n",
      " [0. 0. 0. 0. 0.]\n",
      " [0. 0. 0. 0. 0.]\n",
      " [0. 0. 0. 0. 0.]]\n",
      "\n",
      "[[[0. 0. 0. 0.]]\n",
      "\n",
      " [[0. 0. 0. 0.]]\n",
      "\n",
      " [[0. 0. 0. 0.]]]\n",
      "\n"
     ]
    }
   ],
   "source": [
    "## You code\n",
    "## np.zeros(shape) is similar to np.ones, but instead of 1s\n",
    "## it makes an array of 0s\n",
    "## print 3 arrays of zeros, \n",
    "## one that is a single dimension of size 4\n",
    "print(np.zeros(4))\n",
    "print()\n",
    "\n",
    "## one that is 4x5\n",
    "print(np.zeros((4,5)))\n",
    "print()\n",
    "\n",
    "## one that is 3x1x4\n",
    "print(np.zeros((3,1,4)))\n",
    "print()"
   ]
  },
  {
   "cell_type": "code",
   "execution_count": 33,
   "id": "ba91450d",
   "metadata": {},
   "outputs": [
    {
     "data": {
      "text/plain": [
       "array([[1., 0.],\n",
       "       [0., 1.]])"
      ]
     },
     "execution_count": 33,
     "metadata": {},
     "output_type": "execute_result"
    }
   ],
   "source": [
    "## nxn identity matrix \n",
    "## np.eye(n)\n",
    "\n",
    "## 2x2\n",
    "np.eye(2)"
   ]
  },
  {
   "cell_type": "markdown",
   "id": "7bd1939b",
   "metadata": {},
   "source": [
    "### Built-In `numpy` Functions\n",
    "\n",
    "`numpy` also has a number of built-in functions that provide useful mathematical operations on arrays. Let's look at some examples."
   ]
  },
  {
   "cell_type": "code",
   "execution_count": 34,
   "id": "233a98e7",
   "metadata": {},
   "outputs": [
    {
     "data": {
      "text/plain": [
       "array([-2,  0,  2])"
      ]
     },
     "execution_count": 34,
     "metadata": {},
     "output_type": "execute_result"
    }
   ],
   "source": [
    "y = 2*np.array([1,2,3]) - 4\n",
    "y"
   ]
  },
  {
   "cell_type": "code",
   "execution_count": 35,
   "id": "ad7eead2",
   "metadata": {},
   "outputs": [
    {
     "data": {
      "text/plain": [
       "array([2, 0, 2])"
      ]
     },
     "execution_count": 35,
     "metadata": {},
     "output_type": "execute_result"
    }
   ],
   "source": [
    "## absolute value\n",
    "np.abs(y)"
   ]
  },
  {
   "cell_type": "code",
   "execution_count": 36,
   "id": "7af4efed",
   "metadata": {},
   "outputs": [
    {
     "data": {
      "text/plain": [
       "array([-8,  0,  8])"
      ]
     },
     "execution_count": 36,
     "metadata": {},
     "output_type": "execute_result"
    }
   ],
   "source": [
    "## raising each entry to a power\n",
    "np.power(y, 3)"
   ]
  },
  {
   "cell_type": "code",
   "execution_count": 37,
   "id": "792803a6",
   "metadata": {},
   "outputs": [
    {
     "data": {
      "text/plain": [
       "array([1.41421356, 0.        , 1.41421356])"
      ]
     },
     "execution_count": 37,
     "metadata": {},
     "output_type": "execute_result"
    }
   ],
   "source": [
    "## the square root\n",
    "np.sqrt(np.abs(y))"
   ]
  },
  {
   "cell_type": "code",
   "execution_count": 39,
   "id": "c95cc65e",
   "metadata": {},
   "outputs": [
    {
     "name": "stdout",
     "output_type": "stream",
     "text": [
      "[  20.08553692   55.29129721  149.51177139  404.81508785 1098.24259634]\n"
     ]
    }
   ],
   "source": [
    "## You code\n",
    "## using np.exp and np.log define y to be \n",
    "## e^(x+3) + log(|x|+1)\n",
    "## https://numpy.org/doc/stable/reference/generated/numpy.exp.html\n",
    "## https://numpy.org/doc/stable/reference/generated/numpy.log.html\n",
    "x = np.array([0,1,2,3,4])\n",
    "\n",
    "y = np.exp(x+3) + np.log(np.abs(x)+1)\n",
    "print(y)"
   ]
  },
  {
   "cell_type": "code",
   "execution_count": 41,
   "id": "7869d535",
   "metadata": {},
   "outputs": [
    {
     "name": "stdout",
     "output_type": "stream",
     "text": [
      "1727.946289722884\n"
     ]
    }
   ],
   "source": [
    "## You can sum all of the entries of an array with\n",
    "## np.sum\n",
    "\n",
    "print(np.sum(y))"
   ]
  },
  {
   "cell_type": "markdown",
   "id": "e38b44df",
   "metadata": {},
   "source": [
    "### `numpy` for Pseudorandomness\n",
    "\n",
    "`numpy` is useful for generating pseudorandom numbers as well. We can look at common statistics of arrays too.\n",
    "\n",
    "The pseudorandom functionality is stored in the `random` subpackage of `numpy`. Documentation for `numpy.random` can be found here, <a href=\"https://numpy.org/doc/stable/reference/random/index.html\">https://numpy.org/doc/stable/reference/random/index.html</a>."
   ]
  },
  {
   "cell_type": "code",
   "execution_count": 42,
   "id": "76797101",
   "metadata": {},
   "outputs": [
    {
     "name": "stdout",
     "output_type": "stream",
     "text": [
      "0.752710843503806\n",
      "\n",
      "A (10,2) uniform random array:\n",
      " [[0.28768376 0.90268912]\n",
      " [0.57830019 0.81712583]\n",
      " [0.9249535  0.52007587]\n",
      " [0.68516137 0.90914002]\n",
      " [0.22032016 0.77870416]\n",
      " [0.76399423 0.27461846]\n",
      " [0.25492849 0.8921012 ]\n",
      " [0.67202039 0.21503276]\n",
      " [0.4908133  0.337636  ]\n",
      " [0.15267226 0.30119184]]\n"
     ]
    }
   ],
   "source": [
    "## random generators are stored in np.random\n",
    "## a np.random.random() gives a number selected uniformly\n",
    "## at random from [0,1]\n",
    "## https://numpy.org/doc/stable/reference/random/generated/numpy.random.random.html\n",
    "print(np.random.random())\n",
    "\n",
    "print()\n",
    "\n",
    "## You can get a random array of any shape as well\n",
    "## just call np.random.random(tuple containing the shape)\n",
    "print(\"A (10,2) uniform random array:\\n\", np.random.random((10,2)))"
   ]
  },
  {
   "cell_type": "code",
   "execution_count": 43,
   "id": "ecde2fc6",
   "metadata": {},
   "outputs": [
    {
     "name": "stdout",
     "output_type": "stream",
     "text": [
      "-0.5323185250964186\n",
      "\n"
     ]
    },
    {
     "data": {
      "text/plain": [
       "array([[-0.71659037, -0.23371257],\n",
       "       [ 0.67133447, -0.82621725],\n",
       "       [ 1.73172679, -0.43246798],\n",
       "       [ 0.87157905, -0.28664284],\n",
       "       [ 0.198256  ,  0.58050909],\n",
       "       [ 1.36893807,  0.93261717],\n",
       "       [-0.78042236,  0.94796512],\n",
       "       [-0.15880971,  0.07275499],\n",
       "       [ 0.32323988, -1.34648211],\n",
       "       [-0.95222681,  1.61823381]])"
      ]
     },
     "execution_count": 43,
     "metadata": {},
     "output_type": "execute_result"
    }
   ],
   "source": [
    "## Another Example\n",
    "## np.random.randn() is a normal(0,1) number\n",
    "## a single draw\n",
    "## https://numpy.org/doc/stable/reference/random/generated/numpy.random.randn.html\n",
    "print(np.random.randn())\n",
    "print()\n",
    "\n",
    "## an array of draws\n",
    "## note the slight difference here, we don't have to put\n",
    "## the 10 and 2 in a tuple to get a 10 by 2 array\n",
    "## numpy is slightly inconsistent in this area so always\n",
    "## check the docs to get it right\n",
    "np.random.randn(10,2)"
   ]
  },
  {
   "cell_type": "code",
   "execution_count": 44,
   "id": "641ae1db",
   "metadata": {},
   "outputs": [
    {
     "data": {
      "text/plain": [
       "array([[0, 0, 2, 0, 1, 0, 3, 2, 0, 1],\n",
       "       [2, 2, 1, 3, 1, 1, 0, 2, 1, 2],\n",
       "       [0, 2, 2, 2, 3, 2, 0, 1, 2, 1],\n",
       "       [0, 1, 2, 2, 1, 1, 1, 1, 1, 0],\n",
       "       [1, 0, 0, 2, 1, 0, 2, 2, 2, 3],\n",
       "       [0, 2, 2, 1, 1, 1, 1, 1, 2, 1],\n",
       "       [0, 3, 1, 2, 2, 1, 1, 1, 1, 3],\n",
       "       [1, 0, 1, 1, 0, 0, 0, 2, 1, 2],\n",
       "       [2, 1, 0, 1, 3, 2, 1, 0, 1, 0],\n",
       "       [0, 0, 0, 1, 1, 2, 0, 1, 1, 0]], dtype=int32)"
      ]
     },
     "execution_count": 44,
     "metadata": {},
     "output_type": "execute_result"
    }
   ],
   "source": [
    "## A third example\n",
    "## np.random.binomial()\n",
    "## an array of binomial(n,p) outcomes\n",
    "## https://numpy.org/doc/stable/reference/random/generated/numpy.random.binomial.html\n",
    "np.random.binomial(n=4, p=.3, size=(10,10))"
   ]
  },
  {
   "cell_type": "markdown",
   "id": "0baa5eeb",
   "metadata": {},
   "source": [
    "##### Random Seeds\n",
    "\n",
    "You may have noticed that your randomly generated numbers are different from the ones in the pre-recorded lecture (if you are watching the lecture that is!). This is expected because they are random numbers. It would be quite the coincidence if two different runs came up with the exact same random draw (for the random distributions we have looked at above).\n",
    "\n",
    "If you want to ensure that you get the same random draw across runs you first need to set a random seed. In `numpy` this is done with `numpy.random.seed()`, <a href=\"https://numpy.org/doc/stable/reference/random/generated/numpy.random.seed.html\">https://numpy.org/doc/stable/reference/random/generated/numpy.random.seed.html</a>. Let's see it in action."
   ]
  },
  {
   "cell_type": "code",
   "execution_count": 45,
   "id": "517a417c",
   "metadata": {},
   "outputs": [
    {
     "data": {
      "text/plain": [
       "-0.3202545309014756"
      ]
     },
     "execution_count": 45,
     "metadata": {},
     "output_type": "execute_result"
    }
   ],
   "source": [
    "## Run this code chunk as many times as you'd like\n",
    "## it should always give the same number\n",
    "\n",
    "## to set a random seed you call np.random.seed(integer >= 0)\n",
    "## Note that your number can be any integer so long as it is non-negative\n",
    "np.random.seed(440)\n",
    "\n",
    "np.random.randn()"
   ]
  },
  {
   "cell_type": "code",
   "execution_count": 46,
   "id": "0eea3469",
   "metadata": {},
   "outputs": [],
   "source": [
    "## You code\n",
    "## make a 20 by 3 array of random normal draws\n",
    "## call it X\n",
    "X = np.random.randn(20,3)"
   ]
  },
  {
   "cell_type": "code",
   "execution_count": 47,
   "id": "771dbee9",
   "metadata": {},
   "outputs": [
    {
     "data": {
      "text/plain": [
       "array([[ 1.09050674,  1.52886149,  1.37612136],\n",
       "       [-0.3062176 , -0.32709566, -1.4372358 ],\n",
       "       [-0.72984114, -1.39495541,  0.87123193],\n",
       "       [-1.55909171,  0.92335339,  0.07040371],\n",
       "       [ 1.55344434, -1.39755153, -0.12756144],\n",
       "       [-0.33480946, -0.02569027, -0.61265739],\n",
       "       [ 0.3461294 , -0.4505475 , -0.44789901],\n",
       "       [-0.90636936, -0.24323007, -0.09989317],\n",
       "       [-0.11314842, -0.65692752,  1.46753968],\n",
       "       [-0.83684519, -0.49411999,  1.59754225],\n",
       "       [-0.08843056, -1.76865057, -0.40919394],\n",
       "       [-2.53475325, -0.06538607,  0.12405334],\n",
       "       [-0.85589135, -0.49764564, -0.5827299 ],\n",
       "       [-0.70518513,  1.20940779,  1.22638777],\n",
       "       [ 0.31923843, -1.52496383, -1.70568229],\n",
       "       [-0.42592553,  1.24464831,  0.49398348],\n",
       "       [ 1.87258836, -0.06424433,  1.40322558],\n",
       "       [-0.87162199, -0.79654564, -0.04781258],\n",
       "       [-0.57865208,  0.81793672, -0.42460452],\n",
       "       [-0.90231823,  0.46981075,  1.11543939]])"
      ]
     },
     "execution_count": 47,
     "metadata": {},
     "output_type": "execute_result"
    }
   ],
   "source": [
    "X"
   ]
  },
  {
   "cell_type": "markdown",
   "id": "6bb2128d",
   "metadata": {},
   "source": [
    "Now that you have a data matrix, `X`. Let's compute some summary statistics about `X`."
   ]
  },
  {
   "cell_type": "code",
   "execution_count": 48,
   "id": "792d9bd3",
   "metadata": {},
   "outputs": [
    {
     "name": "stdout",
     "output_type": "stream",
     "text": [
      "The overall mean of X is -0.10383451439077582\n",
      "\n",
      "The column means of X are [-0.32835969 -0.17567678  0.19253292]\n",
      "\n",
      "The row means of X are [ 1.33182986 -0.69018302 -0.41785487 -0.18844487  0.00944379 -0.32438571\n",
      " -0.1841057  -0.41649753  0.23248791  0.08885902 -0.75542502 -0.82536199\n",
      " -0.6454223   0.57687014 -0.97046923  0.43756875  1.0705232  -0.5719934\n",
      " -0.06177329  0.22764397]\n",
      "\n"
     ]
    }
   ],
   "source": [
    "## You can get the mean of all the entries of X with np.mean\n",
    "## https://numpy.org/doc/stable/reference/generated/numpy.mean.html\n",
    "print(\"The overall mean of X is\", np.mean(X))\n",
    "print()\n",
    "\n",
    "## Adding in the argument \"axis = \" allows you to get\n",
    "## the mean of each column\n",
    "print(\"The column means of X are\", np.mean(X, axis=0))\n",
    "print()\n",
    "\n",
    "## and the mean of each row\n",
    "print(\"The row means of X are\", np.mean(X, axis=1))\n",
    "print()\n",
    "\n",
    "## the axis argument tells numpy the axis or axes along \n",
    "## which the means are computed.\n",
    "## so axis = 0 adds up the values in each row position\n",
    "## and divides by the number of rows\n",
    "\n",
    "## If you find this confusing, do not worry, I do too"
   ]
  },
  {
   "cell_type": "code",
   "execution_count": 49,
   "id": "9c76efeb",
   "metadata": {},
   "outputs": [
    {
     "name": "stdout",
     "output_type": "stream",
     "text": [
      "Row sums of X [-6.56719372 -3.51353559  3.85065845]\n",
      "\n",
      "\n",
      "Column sums of X [ 3.99548959 -2.07054906 -1.25356461 -0.56533462  0.02833137 -0.97315712\n",
      " -0.55231711 -1.24949259  0.69746373  0.26657707 -2.26627506 -2.47608598\n",
      " -1.9362669   1.73061043 -2.91140769  1.31270626  3.21156961 -1.71598021\n",
      " -0.18531988  0.68293191]\n"
     ]
    }
   ],
   "source": [
    "## You code\n",
    "## np.sum also has an axis argument\n",
    "## https://numpy.org/doc/stable/reference/generated/numpy.sum.html\n",
    "## calculate the row sums and column sums of X\n",
    "print(\"Row sums of X\", np.sum(X,axis=0))\n",
    "\n",
    "print()\n",
    "print()\n",
    "\n",
    "print(\"Column sums of X\",np.sum(X,axis=1))\n",
    "\n",
    "\n"
   ]
  },
  {
   "cell_type": "code",
   "execution_count": 50,
   "id": "8631b02a",
   "metadata": {},
   "outputs": [
    {
     "name": "stdout",
     "output_type": "stream",
     "text": [
      "The max. values of each column of X occur at the [16  0  9] rows\n",
      "The max values in each column of X are [1 0 2 1 0 1 0 2 2 2 0 2 1 2 0 1 0 2 1 2]\n"
     ]
    }
   ],
   "source": [
    "## You code\n",
    "## where does the max value occur in each column of X?\n",
    "## https://numpy.org/doc/stable/reference/generated/numpy.argmax.html\n",
    "print(\"The max. values of each column of X occur at the\", np.argmax(X,axis=0), \"rows\")\n",
    "\n",
    "\n",
    "## what is the max value in each column of X?\n",
    "## https://numpy.org/doc/stable/reference/generated/numpy.ndarray.max.html\n",
    "print(\"The max values in each column of X are\",np.argmax(X,axis=1))\n"
   ]
  },
  {
   "cell_type": "code",
   "execution_count": 51,
   "id": "f53c5ee8",
   "metadata": {},
   "outputs": [
    {
     "name": "stdout",
     "output_type": "stream",
     "text": [
      "[3 5 3 9 4 4 8 9 9 9]\n"
     ]
    },
    {
     "data": {
      "text/plain": [
       "array([ 3,  8, 11, 20, 24, 28, 36, 45, 54, 63])"
      ]
     },
     "execution_count": 51,
     "metadata": {},
     "output_type": "execute_result"
    }
   ],
   "source": [
    "## Another useful function is np.cumsum()\n",
    "## https://numpy.org/doc/stable/reference/generated/numpy.cumsum.html\n",
    "\n",
    "## randint generates a random integer between the\n",
    "## first two arguments, the third argument tells numpy\n",
    "## how many random draws to perform\n",
    "## https://numpy.org/doc/stable/reference/random/generated/numpy.random.randint.html\n",
    "x = np.random.randint(1,10,10)\n",
    "\n",
    "print(x)\n",
    "\n",
    "np.cumsum(x)\n",
    "\n",
    "## What do you think it does?"
   ]
  },
  {
   "cell_type": "markdown",
   "id": "7e4a43b7",
   "metadata": {},
   "source": [
    "### Linear Algebra with `numpy`\n",
    "\n",
    "A final important use for us is `numpy` as a way to perform linear algebra calculations.\n",
    "\n",
    "A bulk of data science algorithms use linear algebra, since we will dive into the math behind the scenes of these algorithms we will use `numpy`'s linear algebra capabilities.\n",
    "\n",
    "##### Note: If you're not a math heavy person, that's okay! I have written the boot camp's notebooks so that you don't need to understand the math to learn how to perform the algorithms we cover. I just like to cover the mathematical aspects of these data science algorithms to explain what is going on to those boot campers (like myself) that are interested in the mathematical/statistical underpinnings of the algorithms."
   ]
  },
  {
   "cell_type": "code",
   "execution_count": 52,
   "id": "8a187c25",
   "metadata": {},
   "outputs": [
    {
     "data": {
      "text/plain": [
       "array([[3, 4],\n",
       "       [4, 3]], dtype=int32)"
      ]
     },
     "execution_count": 52,
     "metadata": {},
     "output_type": "execute_result"
    }
   ],
   "source": [
    "## We can think of a 2D array as a matrix\n",
    "A = np.random.binomial(n=10,p=.4,size=(2,2))\n",
    "\n",
    "A"
   ]
  },
  {
   "cell_type": "code",
   "execution_count": 62,
   "id": "d5a9caa6",
   "metadata": {},
   "outputs": [
    {
     "name": "stdout",
     "output_type": "stream",
     "text": [
      "[1 2]\n",
      "[[1.]\n",
      " [1.]]\n",
      "[1. 1.]\n"
     ]
    }
   ],
   "source": [
    "## A 1d array can be a row vector\n",
    "x = np.array([1,2])\n",
    "print(x)\n",
    "x.shape\n",
    "\n",
    "y = np.ones((2,1))\n",
    "print(y)\n",
    "\n",
    "print(np.ones((2,)))"
   ]
  },
  {
   "cell_type": "code",
   "execution_count": 65,
   "id": "2c499257",
   "metadata": {},
   "outputs": [
    {
     "name": "stdout",
     "output_type": "stream",
     "text": [
      "(2, 1)\n"
     ]
    }
   ],
   "source": [
    "## or a column vector\n",
    "## .reshape() will attempt to reshape your array into the given\n",
    "## shape\n",
    "## https://numpy.org/doc/stable/reference/generated/numpy.ndarray.reshape.html\n",
    "\n",
    "## When one of the shape dimensions is -1, the value is inferred from \n",
    "## the length of the array and remaining dimensions.\n",
    "## so -1,1 tells numpy that you want a 2-D array with 1 column\n",
    "## and it should infer the number of rows from the original shape\n",
    "## of the array\n",
    "## Here this reshapes x as a 2x1 column vector\n",
    "print(x.reshape(-1, 1).shape)"
   ]
  },
  {
   "cell_type": "code",
   "execution_count": 66,
   "id": "ece2ce33",
   "metadata": {},
   "outputs": [
    {
     "data": {
      "text/plain": [
       "array([[11],\n",
       "       [10]])"
      ]
     },
     "execution_count": 66,
     "metadata": {},
     "output_type": "execute_result"
    }
   ],
   "source": [
    "## We can now calculate A*x\n",
    "## matrix.dot() is used for matrix mult\n",
    "A.dot(x.reshape(-1,1))"
   ]
  },
  {
   "cell_type": "code",
   "execution_count": 68,
   "id": "a1e26d3d",
   "metadata": {},
   "outputs": [
    {
     "name": "stdout",
     "output_type": "stream",
     "text": [
      "[[3 1 1]\n",
      " [2 4 4]\n",
      " [4 3 3]] x [[1.]\n",
      " [1.]\n",
      " [1.]] =\n"
     ]
    },
    {
     "data": {
      "text/plain": [
       "array([[ 5.],\n",
       "       [10.],\n",
       "       [10.]])"
      ]
     },
     "execution_count": 68,
     "metadata": {},
     "output_type": "execute_result"
    }
   ],
   "source": [
    "## You code\n",
    "## make a 3x1 column vector of ones, call it x\n",
    "x = np.ones((3,1))\n",
    "\n",
    "np.random.seed(576)\n",
    "## Take that vector and find B*x\n",
    "B = np.random.binomial(n=5, p=.6, size=(3,3))\n",
    "\n",
    "\n",
    "print(B, \"x\", x, \"=\")\n",
    "## code here\n",
    "B.dot(x)"
   ]
  },
  {
   "cell_type": "code",
   "execution_count": 69,
   "id": "3b4a1e9c",
   "metadata": {},
   "outputs": [],
   "source": [
    "## numpy.linalg contains a number of useful\n",
    "## matrix operations, let's import a few\n",
    "## note this is just for brevity in typing\n",
    "from numpy.linalg import inv, eig, det"
   ]
  },
  {
   "cell_type": "code",
   "execution_count": 70,
   "id": "d94f2c26",
   "metadata": {},
   "outputs": [
    {
     "data": {
      "text/plain": [
       "array([[3, 4],\n",
       "       [4, 3]], dtype=int32)"
      ]
     },
     "execution_count": 70,
     "metadata": {},
     "output_type": "execute_result"
    }
   ],
   "source": [
    "## Recall our A\n",
    "A"
   ]
  },
  {
   "cell_type": "code",
   "execution_count": 71,
   "id": "a4978123",
   "metadata": {},
   "outputs": [
    {
     "data": {
      "text/plain": [
       "array([[-0.42857143,  0.57142857],\n",
       "       [ 0.57142857, -0.42857143]])"
      ]
     },
     "execution_count": 71,
     "metadata": {},
     "output_type": "execute_result"
    }
   ],
   "source": [
    "## the inverse of A\n",
    "## Note you may get an error here if A is not\n",
    "## invertible\n",
    "inv(A)"
   ]
  },
  {
   "cell_type": "code",
   "execution_count": 72,
   "id": "fe83d45a",
   "metadata": {},
   "outputs": [
    {
     "data": {
      "text/plain": [
       "np.float64(-6.999999999999999)"
      ]
     },
     "execution_count": 72,
     "metadata": {},
     "output_type": "execute_result"
    }
   ],
   "source": [
    "## the determinant of A\n",
    "det(A)"
   ]
  },
  {
   "cell_type": "code",
   "execution_count": 73,
   "id": "510f2ba1",
   "metadata": {},
   "outputs": [
    {
     "data": {
      "text/plain": [
       "EigResult(eigenvalues=array([ 7., -1.]), eigenvectors=array([[ 0.70710678, -0.70710678],\n",
       "       [ 0.70710678,  0.70710678]]))"
      ]
     },
     "execution_count": 73,
     "metadata": {},
     "output_type": "execute_result"
    }
   ],
   "source": [
    "## the eigenvalues and eigenvectors of A\n",
    "eig(A)\n",
    "\n",
    "## this returns a tuple of arrays\n",
    "## the first entry are the eigenvalues\n",
    "## the second entry are the corresponding eigenvectors"
   ]
  },
  {
   "cell_type": "code",
   "execution_count": 74,
   "id": "b23bc8a8",
   "metadata": {},
   "outputs": [
    {
     "data": {
      "text/plain": [
       "array([[3, 4],\n",
       "       [4, 3]], dtype=int32)"
      ]
     },
     "execution_count": 74,
     "metadata": {},
     "output_type": "execute_result"
    }
   ],
   "source": [
    "## matrix.transpose() computes the transpose of the matrix\n",
    "A.transpose()"
   ]
  },
  {
   "cell_type": "code",
   "execution_count": 75,
   "id": "d3d5e832",
   "metadata": {},
   "outputs": [
    {
     "name": "stdout",
     "output_type": "stream",
     "text": [
      "Want to solve Ax=b for x:\n",
      "x= [[ 2.]\n",
      " [-1.]]\n"
     ]
    }
   ],
   "source": [
    "## You code\n",
    "b = np.array([2,5]).reshape(-1,1)\n",
    "\n",
    "## Attempt to solve Ax = b for x\n",
    "## Hint remember that if A is invertible, \n",
    "## x = A^{-1} b, where A^{-1} is the inverse of A\n",
    "print(\"Want to solve Ax=b for x:\")\n",
    "print(\"x=\",inv(A).dot(b))"
   ]
  },
  {
   "cell_type": "markdown",
   "id": "1a38ee65",
   "metadata": {},
   "source": [
    "That's it for this notebook. You have now been introduced to `numpy` and our ready to take on the practice problems. Be sure to get a fair level of comfort with `numpy`'s functionality because we will be using it a lot."
   ]
  },
  {
   "cell_type": "markdown",
   "id": "5e35bfeb",
   "metadata": {},
   "source": [
    "--------------------------\n",
    "\n",
    "This notebook was written for the Erd&#337;s Institute C&#337;de Data Science Boot Camp by Matthew Osborne, Ph. D., 2023.\n",
    "\n",
    "Any potential redistributors must seek and receive permission from Matthew Tyler Osborne, Ph.D. prior to redistribution. Redistribution of the material contained in this repository is conditional on acknowledgement of Matthew Tyler Osborne, Ph.D.'s original authorship and sponsorship of the Erdős Institute as subject to the license (see License.md)"
   ]
  },
  {
   "cell_type": "code",
   "execution_count": null,
   "id": "a2ce880e",
   "metadata": {},
   "outputs": [],
   "source": []
  },
  {
   "cell_type": "code",
   "execution_count": null,
   "id": "8b7e68d2",
   "metadata": {},
   "outputs": [],
   "source": []
  }
 ],
 "metadata": {
  "kernelspec": {
   "display_name": "python-bootcamp",
   "language": "python",
   "name": "python3"
  },
  "language_info": {
   "codemirror_mode": {
    "name": "ipython",
    "version": 3
   },
   "file_extension": ".py",
   "mimetype": "text/x-python",
   "name": "python",
   "nbconvert_exporter": "python",
   "pygments_lexer": "ipython3",
   "version": "3.12.8"
  }
 },
 "nbformat": 4,
 "nbformat_minor": 5
}
