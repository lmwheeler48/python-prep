{
 "cells": [
  {
   "cell_type": "markdown",
   "id": "294b5a1f",
   "metadata": {},
   "source": [
    "# Basic Data Types\n",
    "\n",
    "In this notebook we will introduce the basic data types in Python. Here we will assume that you have both no knowledge of python as well as no coding knowledge. <i>If you have experience with coding you may be able to skip this notebook.</i>\n",
    "\n",
    "By the end of this notebook you will know about:\n",
    "- Comments in python,\n",
    "- The `type` function,\n",
    "- `int`s,\n",
    "- `float`s,\n",
    "- `bool`s and\n",
    "- Basic python operations.\n",
    "\n",
    "Let's get started!"
   ]
  },
  {
   "cell_type": "markdown",
   "id": "7b92c86a",
   "metadata": {},
   "source": [
    "## Comments vs. Code in Python\n",
    "\n",
    "In python we can write comments next to our code using the `#` symbol (hashtag/pound sign). A `#` in a bit of python code tells your computer that anything that follows should be ignored. Let's try below. \n",
    "\n",
    "1. First hit `Shift` + `Enter` to execute the code below.\n",
    "2. Then place a `#` in front of the code and rerun the code chunk."
   ]
  },
  {
   "cell_type": "code",
   "execution_count": 2,
   "id": "a7a4cb0a",
   "metadata": {},
   "outputs": [
    {
     "data": {
      "text/plain": [
       "4"
      ]
     },
     "execution_count": 2,
     "metadata": {},
     "output_type": "execute_result"
    }
   ],
   "source": [
    "2 + 2"
   ]
  },
  {
   "cell_type": "markdown",
   "id": "de5758a4",
   "metadata": {},
   "source": [
    "- The first time you ran the code chunk you should have seen `Out[1]: 4`. This indicates that your computer ran the python code `2 + 2` and evaluated it, correctly, to be `4`.\n",
    "- The second time you ran the code chunk you should see no output. This is because the `#` symbol tells your computer that everything to the right is a comment and should be ignored.\n",
    "\n",
    "<i>Note: The `#` only works for the line on which it is typed. If you were to write a new line of code underneath `# 2+2` it would not be impacted by the `#` above it.</i>\n",
    "\n",
    "##### Exercise \n",
    "\n",
    "Write a comment, any comment, on the code chunk below."
   ]
  },
  {
   "cell_type": "code",
   "execution_count": null,
   "id": "37ea9dbe",
   "metadata": {},
   "outputs": [],
   "source": []
  },
  {
   "cell_type": "markdown",
   "id": "b333f75d",
   "metadata": {},
   "source": [
    "Comments are a crucial part of good coding in any language. They are guides for any who attempt to read your code after you have written it, even your future self! It is thus good practice to write informative comments <i>while</i> you write new code."
   ]
  },
  {
   "cell_type": "markdown",
   "id": "f156add5",
   "metadata": {},
   "source": [
    "## Data Types\n",
    "\n",
    "### `int`s\n",
    "\n",
    "An `int` is how python represents an integer (like $1$, $2$, $-71$, etc.). If you are familiar with other programming languages, you might be wondering if there are bounds on how large (or small) an integer you can have. In python 3 the only bound is on your computer's memory.\n",
    "\n",
    "Here is a link to the python 3 documentation on `int`s, <a href=\"https://docs.python.org/3/library/functions.html#int\">https://docs.python.org/3/library/functions.html#int</a>.\n",
    "\n",
    "<i>Note: Documentation sites are critical when learning something new in coding. It is good practice to consult the documentation site when you are unsure of how something works.</i>"
   ]
  },
  {
   "cell_type": "code",
   "execution_count": null,
   "id": "f24de6e7",
   "metadata": {},
   "outputs": [],
   "source": [
    "## This is an int\n",
    "4"
   ]
  },
  {
   "cell_type": "code",
   "execution_count": 3,
   "id": "88a335bd",
   "metadata": {},
   "outputs": [
    {
     "data": {
      "text/plain": [
       "int"
      ]
     },
     "execution_count": 3,
     "metadata": {},
     "output_type": "execute_result"
    }
   ],
   "source": [
    "## We can check the type of an object in python\n",
    "## using type()\n",
    "type(4)"
   ]
  },
  {
   "cell_type": "code",
   "execution_count": null,
   "id": "4c7d1f01",
   "metadata": {},
   "outputs": [],
   "source": [
    "## You code\n",
    "## check the type of two ints added together\n",
    "\n"
   ]
  },
  {
   "cell_type": "code",
   "execution_count": null,
   "id": "b61263e9",
   "metadata": {},
   "outputs": [],
   "source": [
    "## You code \n",
    "## check the type of two ints multiplied\n",
    "\n"
   ]
  },
  {
   "cell_type": "code",
   "execution_count": 6,
   "id": "f23113c0",
   "metadata": {},
   "outputs": [
    {
     "data": {
      "text/plain": [
       "float"
      ]
     },
     "execution_count": 6,
     "metadata": {},
     "output_type": "execute_result"
    }
   ],
   "source": [
    "## You code\n",
    "## check the type of one int divided by another\n",
    "## Is it necessarily an int?\n",
    "type(4/2)\n",
    "# type(3/4)\n"
   ]
  },
  {
   "cell_type": "markdown",
   "id": "35b5a97a",
   "metadata": {},
   "source": [
    "### `float`\n",
    "\n",
    "A `float` is a floating point number, any real number (within some precision determined by your computer's hardware). You may have encountered this in the previous code chunk if your numerator wasn't divisble by your denominator.\n",
    "\n",
    "Here is a link to the python documentation for `float`s, <a href=\"https://docs.python.org/3/library/functions.html#float\">https://docs.python.org/3/library/functions.html#float</a>."
   ]
  },
  {
   "cell_type": "code",
   "execution_count": 7,
   "id": "38b8b98e",
   "metadata": {},
   "outputs": [
    {
     "data": {
      "text/plain": [
       "3.2"
      ]
     },
     "execution_count": 7,
     "metadata": {},
     "output_type": "execute_result"
    }
   ],
   "source": [
    "## This is a float\n",
    "3.2"
   ]
  },
  {
   "cell_type": "code",
   "execution_count": null,
   "id": "3b0249f9",
   "metadata": {},
   "outputs": [],
   "source": [
    "## You code\n",
    "## Check the type of 4/3\n",
    "\n"
   ]
  },
  {
   "cell_type": "code",
   "execution_count": 8,
   "id": "a4d68e78",
   "metadata": {},
   "outputs": [
    {
     "data": {
      "text/plain": [
       "2"
      ]
     },
     "execution_count": 8,
     "metadata": {},
     "output_type": "execute_result"
    }
   ],
   "source": [
    "## You code\n",
    "## what happens if you put 2.3\n",
    "## in int()?\n",
    "\n",
    "int(2.3)"
   ]
  },
  {
   "cell_type": "markdown",
   "id": "9d33d7ea",
   "metadata": {},
   "source": [
    "#### Useful Numeric Operations\n",
    "\n",
    "Before moving onto another data type let's review the arithmetic operations available in base python:\n",
    "- `+`, addition,\n",
    "- `-`, subtraction,\n",
    "- `/`, division,\n",
    "- `*`, multiplication,\n",
    "- `**`, exponentiation,\n",
    "- `%`, modular division:\n",
    "    - Modular division returns the remainder from a divison problem, for example `5%2` would return `1`,\n",
    "- `//`, floor divsion:\n",
    "    - Floor division returns the quotient in which the digits after the decimal point are removed, for example `7//2` returns `3`,\n",
    "    - But if one of the operands is negative, the result is floored, i.e., rounded away from zero (towards negative infinity), for example `-7//2` returns `-4`.\n",
    "    \n",
    "##### Exercise(s)\n",
    "1. Find $2^7$.\n",
    "2. What is $78$ modulo $13$?\n",
    "3. What is $-192$ floor divided by $27$?"
   ]
  },
  {
   "cell_type": "code",
   "execution_count": 10,
   "id": "2c5962ba",
   "metadata": {},
   "outputs": [
    {
     "data": {
      "text/plain": [
       "128"
      ]
     },
     "execution_count": 10,
     "metadata": {},
     "output_type": "execute_result"
    }
   ],
   "source": [
    "## Code 1 here\n",
    "2**7"
   ]
  },
  {
   "cell_type": "code",
   "execution_count": 9,
   "id": "75f1df9f",
   "metadata": {},
   "outputs": [
    {
     "data": {
      "text/plain": [
       "0"
      ]
     },
     "execution_count": 9,
     "metadata": {},
     "output_type": "execute_result"
    }
   ],
   "source": [
    "## Code 2 here\n",
    "78%13"
   ]
  },
  {
   "cell_type": "code",
   "execution_count": 12,
   "id": "c9c7ac58",
   "metadata": {},
   "outputs": [
    {
     "data": {
      "text/plain": [
       "-8"
      ]
     },
     "execution_count": 12,
     "metadata": {},
     "output_type": "execute_result"
    }
   ],
   "source": [
    "## Code 3 here\n",
    "\n",
    "-192//27"
   ]
  },
  {
   "cell_type": "markdown",
   "id": "df8afd0b",
   "metadata": {},
   "source": [
    "### `bool`\n",
    "\n",
    "A `bool` is a boolean or logical object, meaning a `True` or a `False`. These are incredibly useful in programming as we will soon see.\n",
    "\n",
    "Here's the python documentation on `bool` objects, <a href=\"https://docs.python.org/3/library/functions.html#bool\">https://docs.python.org/3/library/functions.html#bool</a>."
   ]
  },
  {
   "cell_type": "code",
   "execution_count": null,
   "id": "5e5add90",
   "metadata": {},
   "outputs": [],
   "source": [
    "## This is the boolean value for something that is True\n",
    "True"
   ]
  },
  {
   "cell_type": "code",
   "execution_count": 13,
   "id": "4bed20c7",
   "metadata": {},
   "outputs": [
    {
     "data": {
      "text/plain": [
       "bool"
      ]
     },
     "execution_count": 13,
     "metadata": {},
     "output_type": "execute_result"
    }
   ],
   "source": [
    "## What is the type of False?\n",
    "type(False)"
   ]
  },
  {
   "cell_type": "code",
   "execution_count": 14,
   "id": "601b9e33",
   "metadata": {},
   "outputs": [
    {
     "data": {
      "text/plain": [
       "0"
      ]
     },
     "execution_count": 14,
     "metadata": {},
     "output_type": "execute_result"
    }
   ],
   "source": [
    "## You code\n",
    "## what happens when you put False inside of int()?\n",
    "\n",
    "int(False)"
   ]
  },
  {
   "cell_type": "code",
   "execution_count": 15,
   "id": "a914798d",
   "metadata": {},
   "outputs": [
    {
     "data": {
      "text/plain": [
       "False"
      ]
     },
     "execution_count": 15,
     "metadata": {},
     "output_type": "execute_result"
    }
   ],
   "source": [
    "## You code\n",
    "## What happens when you put 0 inside of bool()?\n",
    "\n",
    "bool(0)"
   ]
  },
  {
   "cell_type": "code",
   "execution_count": null,
   "id": "9cd7e51b",
   "metadata": {},
   "outputs": [],
   "source": [
    "## You code\n",
    "## what happens when you put True inside of int()?\n",
    "\n"
   ]
  },
  {
   "cell_type": "code",
   "execution_count": null,
   "id": "1c8d27a5",
   "metadata": {},
   "outputs": [],
   "source": [
    "## You code\n",
    "## What happens when you put 1 inside of bool()?\n",
    "\n"
   ]
  },
  {
   "cell_type": "code",
   "execution_count": 17,
   "id": "4311db2f",
   "metadata": {},
   "outputs": [
    {
     "data": {
      "text/plain": [
       "True"
      ]
     },
     "execution_count": 17,
     "metadata": {},
     "output_type": "execute_result"
    }
   ],
   "source": [
    "## You code\n",
    "## What about putting 3.14 inside of bool()?\n",
    "\n",
    "bool(-3.14)"
   ]
  },
  {
   "cell_type": "markdown",
   "id": "3d032c3e",
   "metadata": {},
   "source": [
    "<i>Note that in python `bool()` of any non-zero `int` or `float` results in a `True`.</i>"
   ]
  },
  {
   "cell_type": "markdown",
   "id": "9aab0723",
   "metadata": {},
   "source": [
    "#### `bool` Operations\n",
    "\n",
    "There are also basic boolean operations that we will use to create <i>logical statements</i>, things that tell us, and your computer, whether a statement is True or False.\n",
    "\n",
    "- `>`, greater than,\n",
    "- `<`, less than,\n",
    "- `>=`, greater than or equal,\n",
    "- `<=`, less than or equal,\n",
    "- `==`, is equal to,\n",
    "- `!=`, is not equal to.\n",
    "\n",
    "##### `and` or `&`\n",
    "\n",
    "To check if more than one logical statement are all true at the same time you can use `and` or `&`.\n",
    "\n",
    "##### `or` or `|`\n",
    "\n",
    "To check if one logical or another is `True` you can use `or` or `|`.\n",
    "\n",
    "##### Negation with `not` \n",
    "\n",
    "You can check for when something is <i>not</i> `True` (aka `False`) using `not`.\n",
    "\n",
    "##### Exercises\n",
    "Solve using python.\n",
    "1. Is 50 greater than 2?\n",
    "2. Is 50 not equal to 50?\n",
    "3. Is 50 greater than 2 and 10 less than 3?"
   ]
  },
  {
   "cell_type": "code",
   "execution_count": 18,
   "id": "28dc0a3e",
   "metadata": {},
   "outputs": [
    {
     "data": {
      "text/plain": [
       "True"
      ]
     },
     "execution_count": 18,
     "metadata": {},
     "output_type": "execute_result"
    }
   ],
   "source": [
    "## Code 1 here\n",
    "\n",
    "50>2"
   ]
  },
  {
   "cell_type": "code",
   "execution_count": 20,
   "id": "ec146b01",
   "metadata": {},
   "outputs": [
    {
     "data": {
      "text/plain": [
       "False"
      ]
     },
     "execution_count": 20,
     "metadata": {},
     "output_type": "execute_result"
    }
   ],
   "source": [
    "## Code 2 here\n",
    "50!=50"
   ]
  },
  {
   "cell_type": "code",
   "execution_count": 21,
   "id": "3e47c810",
   "metadata": {},
   "outputs": [
    {
     "data": {
      "text/plain": [
       "False"
      ]
     },
     "execution_count": 21,
     "metadata": {},
     "output_type": "execute_result"
    }
   ],
   "source": [
    "## Code 3 here\n",
    "(50>2)and(10<3)"
   ]
  },
  {
   "cell_type": "markdown",
   "id": "93b02da5",
   "metadata": {},
   "source": [
    "That is all for this notebook! You should now have an understanding of python's most basic data types. We will use this to build even more complex data types in the next two notebooks."
   ]
  },
  {
   "cell_type": "markdown",
   "id": "9b6b591a",
   "metadata": {},
   "source": [
    "--------------------------\n",
    "\n",
    "This notebook was written for the Erd&#337;s Institute C&#337;de Data Science Boot Camp by Matthew Osborne, Ph. D., 2023.\n",
    "\n",
    "Any potential redistributors must seek and receive permission from Matthew Tyler Osborne, Ph.D. prior to redistribution. Redistribution of the material contained in this repository is conditional on acknowledgement of Matthew Tyler Osborne, Ph.D.'s original authorship and sponsorship of the Erdős Institute as subject to the license (see License.md)"
   ]
  },
  {
   "cell_type": "code",
   "execution_count": null,
   "id": "ccb6bb39",
   "metadata": {},
   "outputs": [],
   "source": []
  }
 ],
 "metadata": {
  "kernelspec": {
   "display_name": "python-bootcamp",
   "language": "python",
   "name": "python3"
  },
  "language_info": {
   "codemirror_mode": {
    "name": "ipython",
    "version": 3
   },
   "file_extension": ".py",
   "mimetype": "text/x-python",
   "name": "python",
   "nbconvert_exporter": "python",
   "pygments_lexer": "ipython3",
   "version": "3.12.8"
  }
 },
 "nbformat": 4,
 "nbformat_minor": 5
}
