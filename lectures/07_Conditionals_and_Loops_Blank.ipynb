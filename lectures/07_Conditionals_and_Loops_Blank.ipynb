{
 "cells": [
  {
   "cell_type": "markdown",
   "id": "554e205e",
   "metadata": {},
   "source": [
    "# Conditionals and Loops\n",
    "\n",
    "In this notebook we will introduce two fundamental computer science concepts conditionals and loops.\n",
    "\n",
    "By the end of this notebook you will know about:\n",
    "- The importance of whitespace in python,\n",
    "- If, if else and if else if statements,\n",
    "- For and while loops,\n",
    "- `range` and\n",
    "- `list` comprehensions.\n",
    "\n",
    "Let's get started!"
   ]
  },
  {
   "cell_type": "markdown",
   "id": "1c3d1f52",
   "metadata": {},
   "source": [
    "## Conditional Statements\n",
    "\n",
    "<i>Conditional statements</i> are chunks of code that will run, depending on the truth value of some logical statement. Let's look at a dumb joke for a nice example,\n",
    "\n",
    "<br>\n",
    "<blockquote>\n",
    "A woman sends her partner, who is a computer programmer, to the grocery store, she tells them:\n",
    "\n",
    "'I need butter, sugar and cooking oil. Also, get a loaf of bread and <i>if they have eggs</i>, get 6.'\n",
    "\n",
    "The partner returns with the butter, sugar and cooking oil, as well as 6 loaves of bread.\n",
    "\n",
    "The woman asks: 'Why the heck did you get 6 loaves of bread?'\n",
    "\n",
    "To which the partner replies: 'They had eggs.'\n",
    "</blockquote>\n",
    "<br>\n",
    "\n",
    "In this dumb example, the conditional statement was <i>if they have eggs</i>, because it was `True`, the programmer executed the command <i>get 6</i>. \n",
    "\n",
    "In a general conditional statement you program a logical check that executes one bit of code if it is true and another if it is false.\n",
    "\n",
    "Conditional statements are denoted with `if`s and `else`s.\n",
    "\n",
    "### `if` Statements\n",
    "\n",
    "An `if` statement checks to see if the logical is `True` and if it is, it executes the code that follows. (The documentation for `if` can be found here <a href=\"https://docs.python.org/3/tutorial/controlflow.html#if-statements\">https://docs.python.org/3/tutorial/controlflow.html#if-statements</a>.)\n",
    "\n",
    "These typically use standard math operations. \n",
    "\n",
    "A reminder:\n",
    "- `a == b` checks if `a` is equal to `b`\n",
    "- `a != b` checks if `a` is not equal to `b`\n",
    "- `a < b` checks if `a` is less than `b`\n",
    "- `a <= b` checks if `a` is less than or equal to `b`\n",
    "- `a > b` checks if `a` is greater than `b`\n",
    "- `a >= b` checks if `a` is greater than or equal to `b`.\n",
    "\n",
    "\n",
    "Let's see an example.\n",
    "\n",
    "##### Python Uses Whitespace\n",
    "\n",
    "We'll see in this example that python is dependent on whitespace for formatting."
   ]
  },
  {
   "cell_type": "code",
   "execution_count": null,
   "id": "6e054331",
   "metadata": {},
   "outputs": [],
   "source": [
    "## if statements\n",
    "## first write if, then the logical statement, then a colon (:)\n",
    "## The code you want executed should then be indented until you no\n",
    "## longer want to be in the conditional\n",
    "\n",
    "# The conditional\n",
    "if 2 > 1:\n",
    "    # The indent\n",
    "    print(\"2 > 1\")"
   ]
  },
  {
   "cell_type": "code",
   "execution_count": null,
   "id": "3e6a1e0f",
   "metadata": {},
   "outputs": [],
   "source": [
    "## Check - Whitespace is important!\n",
    "## What happens when you run this?\n",
    "if 3 > 1:\n",
    "print(\"3 > 1\")\n",
    "print(\"Apples are healthy!\")"
   ]
  },
  {
   "cell_type": "code",
   "execution_count": null,
   "id": "02b7fdbf",
   "metadata": {},
   "outputs": [],
   "source": [
    "## You can put a conditional within a conditional\n",
    "## just make sure you indent properly\n",
    "if 2 > 1:\n",
    "    print(\"2 > 1\")\n",
    "    if 2 < 3:\n",
    "        # we now need to indent again\n",
    "        print(\"2 < 3\")"
   ]
  },
  {
   "cell_type": "markdown",
   "id": "6c810283",
   "metadata": {},
   "source": [
    "#### `and` or `&`\n",
    "\n",
    "Recall that `and` or `&` can be used to check if more than one logical statement are all true at the same time you can use `and` or `&`. Let's see how you can use that in an `if` statement."
   ]
  },
  {
   "cell_type": "code",
   "execution_count": null,
   "id": "73c59f3a",
   "metadata": {},
   "outputs": [],
   "source": [
    "## You code\n",
    "## put in a numeric value for x below\n",
    "x = 10"
   ]
  },
  {
   "cell_type": "code",
   "execution_count": null,
   "id": "d0c0b09a",
   "metadata": {},
   "outputs": [],
   "source": [
    "## put each unique logical statement in parantheses\n",
    "if (x > 2) & (x < 100):\n",
    "    print(\"x is >2 and <100\")\n",
    "    \n",
    "## equivalently\n",
    "if (x > 2) and (x < 100):\n",
    "    print(\"x is >2 and <100\")\n"
   ]
  },
  {
   "cell_type": "markdown",
   "id": "b8445a6b",
   "metadata": {},
   "source": [
    "#### Exercise: `or` or `|`\n",
    "\n",
    "To check if one logical or another is `True` you can use `or` or `|`.\n",
    "\n",
    "Try and see if you can write code to check if $|x|>50$."
   ]
  },
  {
   "cell_type": "code",
   "execution_count": null,
   "id": "f714d9bf",
   "metadata": {},
   "outputs": [],
   "source": [
    "## You code here\n",
    "## again remember to place unique logical statements in parantheses\n",
    "## between them place | or or\n"
   ]
  },
  {
   "cell_type": "markdown",
   "id": "2464604f",
   "metadata": {},
   "source": [
    "### `if` `else` Statements\n",
    "\n",
    "You do not want to write `if` statements for every single possible outcome, hence the `else` statement.\n",
    "\n",
    "An `else` statement executes a chunk of code when the logical statement for the `if` clause is `False`."
   ]
  },
  {
   "cell_type": "code",
   "execution_count": null,
   "id": "e4694d56",
   "metadata": {},
   "outputs": [],
   "source": [
    "## start with an if\n",
    "if x > 2:\n",
    "    print(\"x > 2\")\n",
    "## now we go back to the identation level of the if\n",
    "## and write an else:\n",
    "else:\n",
    "    ## then we must again indent\n",
    "    print(\"x <= 2\")"
   ]
  },
  {
   "cell_type": "markdown",
   "id": "63c9ac9c",
   "metadata": {},
   "source": [
    "### `if` `else` `if` or `elif`\n",
    "\n",
    "`if` `else`s can be chained to form a series of logical checks with the `elif` statement, which is short for `else` `if`."
   ]
  },
  {
   "cell_type": "code",
   "execution_count": null,
   "id": "48c50271",
   "metadata": {},
   "outputs": [],
   "source": [
    "## start with an if\n",
    "if x > 2:\n",
    "    print(\"x > 2\")\n",
    "## then write elif followed by a logical and a colon\n",
    "elif x > -1:\n",
    "    ## there's that indent again!\n",
    "    print(\"2 >= x > -1\")\n",
    "## let's do it again\n",
    "elif x > -4:\n",
    "    print(\"-1 >= x > -4\")\n",
    "## and we end with an else\n",
    "else:\n",
    "    print(\"-4 > x\")"
   ]
  },
  {
   "cell_type": "code",
   "execution_count": 4,
   "id": "a82524a3",
   "metadata": {},
   "outputs": [
    {
     "name": "stdout",
     "output_type": "stream",
     "text": [
      "3 is not divisible by 2\n"
     ]
    }
   ],
   "source": [
    "## You code\n",
    "## % in python represents modular division\n",
    "## meaning a%b returns the remainder after a is divided by b\n",
    "## First set y as any integer you fancy\n",
    "y = 3\n",
    "\n",
    "## now write an if else statement that prints out if y\n",
    "## is or is not divisible by 2\n",
    "if (y%2 == 0):\n",
    "    print(y, \"is divisible by 2\")\n",
    "else:\n",
    "    print(y, \"is not divisible by 2\")\n",
    "\n"
   ]
  },
  {
   "cell_type": "markdown",
   "id": "39d6f38c",
   "metadata": {},
   "source": [
    "## Loops\n",
    "\n",
    "Maybe you want to execute a chunk of code ten or $100$ times, or maybe you want a code chunk to execute until a certain condition is met. Then you want to run a code loop!\n",
    "\n",
    "### `for` Loops\n",
    "\n",
    "A `for` loop runs a chunk of code a certain number of times, or through a certain iterable object (we will see what that means soon). Note here is the documentation on `for` loops in python <a href=\"https://docs.python.org/3/tutorial/controlflow.html#for-statements\">https://docs.python.org/3/tutorial/controlflow.html#for-statements</a>.\n",
    "\n",
    "##### `range()`\n",
    "\n",
    "Before we show how to code up a `for` loop, let's touch on `range()`. `range()` produces a sequence of numbers between two integers at certain intervals depending on the function input, here is the documentation on `range()`, <a href=\"https://docs.python.org/3/library/functions.html#func-range\">https://docs.python.org/3/library/functions.html#func-range</a>."
   ]
  },
  {
   "cell_type": "code",
   "execution_count": 5,
   "id": "f8ca8722",
   "metadata": {},
   "outputs": [
    {
     "data": {
      "text/plain": [
       "range(0, 10)"
      ]
     },
     "execution_count": 5,
     "metadata": {},
     "output_type": "execute_result"
    }
   ],
   "source": [
    "## you can input a number, n, and range will go from 0 to n-1\n",
    "## this will range from 0 to 9, i.e. 10 total numbers\n",
    "range(10)"
   ]
  },
  {
   "cell_type": "code",
   "execution_count": 6,
   "id": "5ffb2efc",
   "metadata": {},
   "outputs": [
    {
     "data": {
      "text/plain": [
       "range(71, 142)"
      ]
     },
     "execution_count": 6,
     "metadata": {},
     "output_type": "execute_result"
    }
   ],
   "source": [
    "## You can specify a start and stop like so, again at intervals of 1\n",
    "range(71, 142)"
   ]
  },
  {
   "cell_type": "code",
   "execution_count": 7,
   "id": "4fff0aed",
   "metadata": {},
   "outputs": [
    {
     "data": {
      "text/plain": [
       "range(71, 142, 3)"
      ]
     },
     "execution_count": 7,
     "metadata": {},
     "output_type": "execute_result"
    }
   ],
   "source": [
    "## you can also specify a spacing with a third \"step\" argument\n",
    "## this goes from 71 to 142 in steps of 3\n",
    "range(71, 142, 3)"
   ]
  },
  {
   "cell_type": "markdown",
   "id": "52ff60a6",
   "metadata": {},
   "source": [
    "##### back to `for` loops\n",
    "\n",
    "Back to `for` loops!"
   ]
  },
  {
   "cell_type": "code",
   "execution_count": 8,
   "id": "f8a42ad4",
   "metadata": {},
   "outputs": [
    {
     "name": "stdout",
     "output_type": "stream",
     "text": [
      "0\n",
      "1\n",
      "2\n",
      "3\n",
      "4\n",
      "5\n",
      "6\n",
      "7\n",
      "8\n",
      "9\n",
      "all done\n"
     ]
    }
   ],
   "source": [
    "## A for loop starts with the for statement,\n",
    "## i.e. for blank in iterable\n",
    "for i in range(0,10):\n",
    "    ## then our good friend the indent\n",
    "    ## which denotes the code chunk we want executed\n",
    "    ## each time through the loop\n",
    "    print(i)\n",
    "    \n",
    "## once we're done with the loop we return to the original\n",
    "## indent level \n",
    "print(\"all done\")"
   ]
  },
  {
   "cell_type": "code",
   "execution_count": 9,
   "id": "8f7f9fe4",
   "metadata": {},
   "outputs": [
    {
     "name": "stdout",
     "output_type": "stream",
     "text": [
      "apple\n",
      "banana\n",
      "pear\n"
     ]
    }
   ],
   "source": [
    "## You can loop through more than ranges\n",
    "## you can loop through any \"iterable\" object\n",
    "## like so:\n",
    "for fruit in [\"apple\", \"banana\", \"pear\"]:\n",
    "    print(fruit)"
   ]
  },
  {
   "cell_type": "code",
   "execution_count": 10,
   "id": "7f307824",
   "metadata": {},
   "outputs": [
    {
     "ename": "TypeError",
     "evalue": "'int' object is not iterable",
     "output_type": "error",
     "traceback": [
      "\u001b[1;31m---------------------------------------------------------------------------\u001b[0m",
      "\u001b[1;31mTypeError\u001b[0m                                 Traceback (most recent call last)",
      "Cell \u001b[1;32mIn[10], line 3\u001b[0m\n\u001b[0;32m      1\u001b[0m \u001b[38;5;66;03m## iterables are things like lists, tuples, and ranges\u001b[39;00m\n\u001b[0;32m      2\u001b[0m \u001b[38;5;66;03m## See what happens when you try to loop through an integer\u001b[39;00m\n\u001b[1;32m----> 3\u001b[0m \u001b[38;5;28;01mfor\u001b[39;00m i \u001b[38;5;129;01min\u001b[39;00m \u001b[38;5;241m2\u001b[39m:\n\u001b[0;32m      4\u001b[0m     \u001b[38;5;28mprint\u001b[39m(i)\n",
      "\u001b[1;31mTypeError\u001b[0m: 'int' object is not iterable"
     ]
    }
   ],
   "source": [
    "## iterables are things like lists, tuples, and ranges\n",
    "## See what happens when you try to loop through an integer\n",
    "for i in 2:\n",
    "    print(i)"
   ]
  },
  {
   "cell_type": "markdown",
   "id": "d0a22805",
   "metadata": {},
   "source": [
    "#### `list` Comprehensions\n",
    "\n",
    "`for` loops are also used to create `list`s using what are known as `list` comprehensions. \n",
    "\n",
    "A `list` comprehension works like this:\n",
    "`[item for item in iterable given some logical]`\n",
    "\n",
    "Let's see a concrete example:"
   ]
  },
  {
   "cell_type": "code",
   "execution_count": 11,
   "id": "1567c255",
   "metadata": {},
   "outputs": [
    {
     "name": "stdout",
     "output_type": "stream",
     "text": [
      "[2, 4, 6, 8, 10, 12, 14, 16, 18, 20, 22, 24, 26, 28, 30, 32, 34, 36, 38, 40, 42, 44, 46, 48, 50, 52, 54, 56, 58, 60, 62, 64, 66, 68, 70]\n"
     ]
    }
   ],
   "source": [
    "## Let's create a list of all the even numbers \n",
    "## from 1 to 71\n",
    "evens_1_71 = [i for i in range(1,72) if i%2 == 0]\n",
    "\n",
    "print(evens_1_71)"
   ]
  },
  {
   "cell_type": "code",
   "execution_count": 12,
   "id": "cdc8dda6",
   "metadata": {},
   "outputs": [
    {
     "name": "stdout",
     "output_type": "stream",
     "text": [
      "[7, 14, 21, 28, 35, 42, 49, 56, 63, 70, 77, 84, 91, 98, 105]\n"
     ]
    }
   ],
   "source": [
    "## You code\n",
    "## create a list of all the numbers divisible by 7 from 1 to 111\n",
    "## using a list comprehension\n",
    "nums = [i for i in range(1,111) if i%7 == 0]\n",
    "print(nums)"
   ]
  },
  {
   "cell_type": "markdown",
   "id": "d86e3ee8",
   "metadata": {},
   "source": [
    "The documentation for comprehensions can be found here <a href=\"https://docs.python.org/3/tutorial/datastructures.html#list-comprehensions\">https://docs.python.org/3/tutorial/datastructures.html#list-comprehensions</a>."
   ]
  },
  {
   "cell_type": "markdown",
   "id": "27d1a6f2",
   "metadata": {},
   "source": [
    "##### Combining a conditional with a for loop\n",
    "\n",
    "We can combine what we've learned so far to nest a conditional `if` `else` statement inside of a `for` loop."
   ]
  },
  {
   "cell_type": "code",
   "execution_count": null,
   "id": "55fb153b",
   "metadata": {},
   "outputs": [],
   "source": [
    "## Let's print out all numbers that are\n",
    "## divisible by 7 or 11 between 1 and 100\n",
    "\n",
    "## first the for loop\n",
    "for i in range(1,101):\n",
    "    ## our indent friend\n",
    "    ## now the conditonal\n",
    "    if i%7 == 0:\n",
    "        ## oh boy, two indents!\n",
    "        print(i,\"is divisible by 7.\")\n",
    "    if i%11 == 0:\n",
    "        print(i,\"is divisible by 11.\")"
   ]
  },
  {
   "cell_type": "code",
   "execution_count": null,
   "id": "09e4f95e",
   "metadata": {},
   "outputs": [],
   "source": [
    "## You code\n",
    "## write a better loop than what I had before\n",
    "## ideally we'd do the following:\n",
    "## print \"i is divisible by 7\" if i is divisible by 7\n",
    "## print \"i is divisible by 11\" if i is divisible by 11\n",
    "## print \"i is divisible by 7 and 11\" if i is divisible by both\n",
    "## print \"i not divisible by 7 or 11\" if i is divisible by neither\n",
    "\n"
   ]
  },
  {
   "cell_type": "markdown",
   "id": "749474ff",
   "metadata": {},
   "source": [
    "### `while` loops\n",
    "\n",
    "A second type of loop is a `while` loop. This runs a chunk of code until a certain logical condition is no longer `True`. \n",
    "\n",
    "##### Caution!\n",
    "\n",
    "Be careful when writing a `while` loop, unlike `for` loops it is quite easy to write an <i>infinite loop</i>, a loop that runs forever.\n",
    "\n",
    "The documentation on `while` loops in python can be found here, <a href=\"https://docs.python.org/3/reference/compound_stmts.html#while\">https://docs.python.org/3/reference/compound_stmts.html#while</a>."
   ]
  },
  {
   "cell_type": "code",
   "execution_count": 13,
   "id": "8ccf271d",
   "metadata": {},
   "outputs": [
    {
     "name": "stdout",
     "output_type": "stream",
     "text": [
      "Countdown time!\n",
      "10\n",
      "9\n",
      "8\n",
      "7\n",
      "6\n",
      "5\n",
      "4\n",
      "3\n",
      "2\n",
      "1\n",
      "Lift off!\n"
     ]
    }
   ],
   "source": [
    "## First write while then the conditional statement and a colon\n",
    "## then indent and write the code chunk you want executed\n",
    "\n",
    "i = 10\n",
    "print(\"Countdown time!\")\n",
    "while i > 0:\n",
    "    print(i)\n",
    "    i = i - 1\n",
    "\n",
    "# Then return to your original indentation level\n",
    "print(\"Lift off!\")"
   ]
  },
  {
   "cell_type": "markdown",
   "id": "39a2f6c7",
   "metadata": {},
   "source": [
    "While there are some other <i>flow-control</i> techniques (what we have been doing in this notebook) that a standard programmer may want to know, I do not expect that we will encounter them in the course of the boot camp."
   ]
  },
  {
   "cell_type": "markdown",
   "id": "5ea2b5b8",
   "metadata": {},
   "source": [
    "--------------------------\n",
    "\n",
    "This notebook was written for the Erd&#337;s Institute C&#337;de Data Science Boot Camp by Matthew Osborne, Ph. D., 2023.\n",
    "\n",
    "Any potential redistributors must seek and receive permission from Matthew Tyler Osborne, Ph.D. prior to redistribution. Redistribution of the material contained in this repository is conditional on acknowledgement of Matthew Tyler Osborne, Ph.D.'s original authorship and sponsorship of the Erdős Institute as subject to the license (see License.md)"
   ]
  },
  {
   "cell_type": "code",
   "execution_count": null,
   "id": "30ecd8b4",
   "metadata": {},
   "outputs": [],
   "source": []
  }
 ],
 "metadata": {
  "kernelspec": {
   "display_name": "python-bootcamp",
   "language": "python",
   "name": "python3"
  },
  "language_info": {
   "codemirror_mode": {
    "name": "ipython",
    "version": 3
   },
   "file_extension": ".py",
   "mimetype": "text/x-python",
   "name": "python",
   "nbconvert_exporter": "python",
   "pygments_lexer": "ipython3",
   "version": "3.12.8"
  }
 },
 "nbformat": 4,
 "nbformat_minor": 5
}
