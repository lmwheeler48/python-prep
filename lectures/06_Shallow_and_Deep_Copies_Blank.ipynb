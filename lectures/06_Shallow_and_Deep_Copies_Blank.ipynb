{
 "cells": [
  {
   "cell_type": "markdown",
   "metadata": {},
   "source": [
    "# Shallow and Deep Copies\n",
    "\n",
    "In this notebook we will briefly touch on how python handles data storage.\n",
    "\n",
    "By the end of this notebook you will know about:\n",
    "- How python handles variable storage,\n",
    "- The difference between assignment, shallow copies, and deep copies,\n",
    "- Why we want to perform deep copies,\n",
    "- The `del` function,\n",
    "- The `id` function."
   ]
  },
  {
   "cell_type": "markdown",
   "metadata": {},
   "source": [
    "Let's start by making <i>assigning</i> the list `[1, 2, 3, 4, 5, 6, 7, 8, 9, 10]` to a variable `a`."
   ]
  },
  {
   "cell_type": "code",
   "execution_count": 1,
   "metadata": {},
   "outputs": [],
   "source": [
    "a = [1, 2, 3, 4, 5, 6, 7, 8, 9, 10]"
   ]
  },
  {
   "cell_type": "markdown",
   "metadata": {},
   "source": [
    "When you execute that code it creates a new list, `[1, 2, 3, 4, 5, 6, 7, 8, 9, 10]`, and stores that list in memory. It then points `a` to that list as illustrated in this image.\n",
    "\n",
    "<img src=\"a_list.png\" style=\"width:50%\"></img>\n",
    "\n",
    "Now let's run the following code assigning the variable `a` to a new variable, `b`."
   ]
  },
  {
   "cell_type": "code",
   "execution_count": 2,
   "metadata": {},
   "outputs": [],
   "source": [
    "b = a"
   ]
  },
  {
   "cell_type": "markdown",
   "metadata": {},
   "source": [
    "Now python will point `b` to the same list object that `a` is pointed to like in this image.\n",
    "\n",
    "<img src=\"a_b_list.png\" style=\"width:60%\"></img>\n",
    "\n",
    "So what happens when we run something like `b[4] = 11`?"
   ]
  },
  {
   "cell_type": "code",
   "execution_count": 3,
   "metadata": {},
   "outputs": [],
   "source": [
    "b[4]=11"
   ]
  },
  {
   "cell_type": "code",
   "execution_count": 4,
   "metadata": {},
   "outputs": [
    {
     "data": {
      "text/plain": [
       "[1, 2, 3, 4, 11, 6, 7, 8, 9, 10]"
      ]
     },
     "execution_count": 4,
     "metadata": {},
     "output_type": "execute_result"
    }
   ],
   "source": [
    "a"
   ]
  },
  {
   "cell_type": "markdown",
   "metadata": {},
   "source": [
    "Because `a` and `b` were pointing to the same list object in your memory, if you change `b`, then you also change `b`.\n",
    "\n",
    "We can check this with the `id` function of base `python`, <a href=\"https://docs.python.org/3/library/functions.html#id\">https://docs.python.org/3/library/functions.html#id</a>. This function takes in a variable and provides you the \"identity\" of the object stored within. An object's identity is a unique integer that will not change over the lifetime of that object."
   ]
  },
  {
   "cell_type": "code",
   "execution_count": 9,
   "metadata": {},
   "outputs": [
    {
     "name": "stdout",
     "output_type": "stream",
     "text": [
      "2078653503104\n",
      "2078653503104\n",
      "2078653342464\n"
     ]
    }
   ],
   "source": [
    "## Note that this number will likely be different from \n",
    "## what you see on your computer screen\n",
    "print(id(a))\n",
    "print(id(b))\n",
    "print(id([0,1]))"
   ]
  },
  {
   "cell_type": "markdown",
   "metadata": {},
   "source": [
    "Because `a` and `b` are pointing to the same object in your computer's memory `id(a)` equals `id(b)`\n",
    "\n",
    "## The `copy` module\n",
    "\n",
    "In order to make true copies of an object in python we will need to use the `copy` module (note that we will look at modules and packages more closely in a later `jupyter notebook`). We can make two types of copies with the `copy` module:\n",
    "1. Shallow copies, and\n",
    "2. Deep copies.\n",
    "\n",
    "In order to use the `copy` module, we first need to `import` it, again more on this in a later `jupyter notebook`."
   ]
  },
  {
   "cell_type": "code",
   "execution_count": 10,
   "metadata": {},
   "outputs": [],
   "source": [
    "import copy"
   ]
  },
  {
   "cell_type": "markdown",
   "metadata": {},
   "source": [
    "### Shallow copies with `copy.copy()`\n",
    "\n",
    "A shallow copy will create a new object and then copy and paste the contents of the previous object into the new copy. Shallow copies can be made with the `copy.copy()` function, <a href=\"https://docs.python.org/3/library/copy.html#copy.copy\">https://docs.python.org/3/library/copy.html#copy.copy</a>.\n",
    "\n",
    "For example:"
   ]
  },
  {
   "cell_type": "code",
   "execution_count": 11,
   "metadata": {},
   "outputs": [],
   "source": [
    "a = [1, 2, 3, 4, 5, 6, 7, 8, 9, 10]\n",
    "\n",
    "## making a shallow copy of a\n",
    "b = copy.copy(a)"
   ]
  },
  {
   "cell_type": "code",
   "execution_count": 12,
   "metadata": {},
   "outputs": [],
   "source": [
    "b[4] = 11"
   ]
  },
  {
   "cell_type": "code",
   "execution_count": 13,
   "metadata": {},
   "outputs": [
    {
     "data": {
      "text/plain": [
       "[1, 2, 3, 4, 5, 6, 7, 8, 9, 10]"
      ]
     },
     "execution_count": 13,
     "metadata": {},
     "output_type": "execute_result"
    }
   ],
   "source": [
    "a"
   ]
  },
  {
   "cell_type": "code",
   "execution_count": 14,
   "metadata": {},
   "outputs": [
    {
     "data": {
      "text/plain": [
       "[1, 2, 3, 4, 11, 6, 7, 8, 9, 10]"
      ]
     },
     "execution_count": 14,
     "metadata": {},
     "output_type": "execute_result"
    }
   ],
   "source": [
    "b"
   ]
  },
  {
   "cell_type": "code",
   "execution_count": 15,
   "metadata": {},
   "outputs": [
    {
     "name": "stdout",
     "output_type": "stream",
     "text": [
      "id(a) = 2078653567872\n",
      "id(b) = 2078653671168\n"
     ]
    }
   ],
   "source": [
    "print(\"id(a) =\", id(a))\n",
    "print(\"id(b) =\", id(b))"
   ]
  },
  {
   "cell_type": "markdown",
   "metadata": {},
   "source": [
    "We have now made a new object that is a shallow copy of `a`.\n",
    "\n",
    "#### An issue with shallow copies\n",
    "\n",
    "Shallow copies do struggle with more complicated data structures, for example `list`s of `list`s."
   ]
  },
  {
   "cell_type": "code",
   "execution_count": 32,
   "metadata": {},
   "outputs": [],
   "source": [
    "a = [[1], [2], [3], [4], [5]]\n",
    "b = copy.copy(a)\n",
    "\n",
    "## now we will reassign the 0 position of \n",
    "## the 0 list of b to be 100\n",
    "b[0][0] = 100"
   ]
  },
  {
   "cell_type": "code",
   "execution_count": 33,
   "metadata": {},
   "outputs": [
    {
     "data": {
      "text/plain": [
       "[[100], [2], [3], [4], [5]]"
      ]
     },
     "execution_count": 33,
     "metadata": {},
     "output_type": "execute_result"
    }
   ],
   "source": [
    "a"
   ]
  },
  {
   "cell_type": "code",
   "execution_count": 34,
   "metadata": {},
   "outputs": [
    {
     "data": {
      "text/plain": [
       "[[100], [2], [3], [4], [5]]"
      ]
     },
     "execution_count": 34,
     "metadata": {},
     "output_type": "execute_result"
    }
   ],
   "source": [
    "b"
   ]
  },
  {
   "cell_type": "markdown",
   "metadata": {},
   "source": [
    "The issue lies with how `copy.copy` copies the inner contents of the main object. We can see this by examining the `id` of the `0` entries of `a` and `b`."
   ]
  },
  {
   "cell_type": "code",
   "execution_count": 35,
   "metadata": {},
   "outputs": [
    {
     "data": {
      "text/plain": [
       "2078653596544"
      ]
     },
     "execution_count": 35,
     "metadata": {},
     "output_type": "execute_result"
    }
   ],
   "source": [
    "id(a[0])"
   ]
  },
  {
   "cell_type": "code",
   "execution_count": 36,
   "metadata": {},
   "outputs": [
    {
     "data": {
      "text/plain": [
       "2078653596544"
      ]
     },
     "execution_count": 36,
     "metadata": {},
     "output_type": "execute_result"
    }
   ],
   "source": [
    "id(b[0])"
   ]
  },
  {
   "cell_type": "markdown",
   "metadata": {},
   "source": [
    "Luckily, there is a way to make true copies of more complex data structures as well.\n",
    "\n",
    "### Deep copies with `copy.deepcopy()`\n",
    "\n",
    "Unlike a shallow copy, a deep copy will make a new object and then populate it with true copies of the interior of the original object. Deep copies can be made with the `copy.deepcopy()` function, <a href=\"https://docs.python.org/3/library/copy.html#copy.deepcopy\">https://docs.python.org/3/library/copy.html#copy.deepcopy</a>.\n",
    "\n",
    "Let's return to our `list` of `list`s example."
   ]
  },
  {
   "cell_type": "code",
   "execution_count": 38,
   "metadata": {},
   "outputs": [],
   "source": [
    "a = [[1], [2], [3], [4], [5]]\n",
    "b = copy.deepcopy(a)\n",
    "\n",
    "b[0][0] = 100"
   ]
  },
  {
   "cell_type": "code",
   "execution_count": 39,
   "metadata": {},
   "outputs": [
    {
     "data": {
      "text/plain": [
       "[[1], [2], [3], [4], [5]]"
      ]
     },
     "execution_count": 39,
     "metadata": {},
     "output_type": "execute_result"
    }
   ],
   "source": [
    "a"
   ]
  },
  {
   "cell_type": "code",
   "execution_count": 40,
   "metadata": {},
   "outputs": [
    {
     "data": {
      "text/plain": [
       "[[100], [2], [3], [4], [5]]"
      ]
     },
     "execution_count": 40,
     "metadata": {},
     "output_type": "execute_result"
    }
   ],
   "source": [
    "b"
   ]
  },
  {
   "cell_type": "markdown",
   "metadata": {},
   "source": [
    "Now we can alter the `list`s inside of the main `list` of `b` without altering the content of `a`.\n",
    "\n",
    "\n",
    "The concepts of a shallow and deep copies will come up a lot when we shift to data science topics, particularly data splits.\n",
    "\n",
    "\n",
    "## The `del` Statement\n",
    "\n",
    "When you think you are done with a particular variable, you may want to delete it. This can be done in python with a `del` statement, <a href=\"https://docs.python.org/3/reference/simple_stmts.html#del\">https://docs.python.org/3/reference/simple_stmts.html#del</a>."
   ]
  },
  {
   "cell_type": "code",
   "execution_count": 41,
   "metadata": {},
   "outputs": [],
   "source": [
    "## For a del statement type del a space and \n",
    "## then the variable(s) you want deleted\n",
    "## multiple variables should be separated by a comma\n",
    "del a, b"
   ]
  },
  {
   "cell_type": "code",
   "execution_count": null,
   "metadata": {},
   "outputs": [],
   "source": []
  },
  {
   "cell_type": "markdown",
   "metadata": {},
   "source": [
    "Deleting a variable in this way will remove the pointer from the variable name to the data object stored in your memory. <i>Note: this will not directly delete the object from your computer's memory, but if no variables are pointing to an object, it will eventually be deleted by python, usually quickly after the `del` statement is executed.</i>"
   ]
  },
  {
   "cell_type": "markdown",
   "metadata": {},
   "source": [
    "--------------------------\n",
    "\n",
    "This notebook was written for the Erd&#337;s Institute C&#337;de Data Science Boot Camp by Matthew Osborne, Ph. D., 2023.\n",
    "\n",
    "Any potential redistributors must seek and receive permission from Matthew Tyler Osborne, Ph.D. prior to redistribution. Redistribution of the material contained in this repository is conditional on acknowledgement of Matthew Tyler Osborne, Ph.D.'s original authorship and sponsorship of the Erdős Institute as subject to the license (see License.md)"
   ]
  },
  {
   "cell_type": "code",
   "execution_count": null,
   "metadata": {},
   "outputs": [],
   "source": []
  }
 ],
 "metadata": {
  "kernelspec": {
   "display_name": "python-bootcamp",
   "language": "python",
   "name": "python3"
  },
  "language_info": {
   "codemirror_mode": {
    "name": "ipython",
    "version": 3
   },
   "file_extension": ".py",
   "mimetype": "text/x-python",
   "name": "python",
   "nbconvert_exporter": "python",
   "pygments_lexer": "ipython3",
   "version": "3.12.8"
  }
 },
 "nbformat": 4,
 "nbformat_minor": 2
}
